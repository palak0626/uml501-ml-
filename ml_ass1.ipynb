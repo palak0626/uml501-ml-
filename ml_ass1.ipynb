{
  "nbformat": 4,
  "nbformat_minor": 0,
  "metadata": {
    "colab": {
      "provenance": []
    },
    "kernelspec": {
      "name": "python3",
      "display_name": "Python 3"
    },
    "language_info": {
      "name": "python"
    }
  },
  "cells": [
    {
      "cell_type": "code",
      "execution_count": 1,
      "metadata": {
        "colab": {
          "base_uri": "https://localhost:8080/"
        },
        "id": "jemZMXWD_HSZ",
        "outputId": "4fea7904-0e85-45ff-f824-52528342afa1"
      },
      "outputs": [
        {
          "output_type": "stream",
          "name": "stdout",
          "text": [
            "Reversed array: [5 4 6 3 2 1]\n"
          ]
        }
      ],
      "source": [
        "#q1-a\n",
        "import numpy as np\n",
        "\n",
        "arr = np.array([1, 2, 3, 6, 4, 5])\n",
        "reversed_arr = arr[::-1]\n",
        "print(\"Reversed array:\", reversed_arr)\n"
      ]
    },
    {
      "cell_type": "code",
      "source": [
        "#q1-b\n",
        "array1 = np.array([[1, 2, 3], [2, 4, 5], [1, 2, 3]])\n",
        "\n",
        "# Method 1: Using flatten()\n",
        "flat1 = array1.flatten()\n",
        "\n",
        "# Method 2: Using ravel()\n",
        "flat2 = array1.ravel()\n",
        "\n",
        "print(\"Flattened array (flatten):\", flat1)\n",
        "print(\"Flattened array (ravel):\", flat2)\n"
      ],
      "metadata": {
        "colab": {
          "base_uri": "https://localhost:8080/"
        },
        "id": "gdFOz7zCJvsQ",
        "outputId": "0617eb4e-3ff0-4dc1-faca-f659d297be65"
      },
      "execution_count": 2,
      "outputs": [
        {
          "output_type": "stream",
          "name": "stdout",
          "text": [
            "Flattened array (flatten): [1 2 3 2 4 5 1 2 3]\n",
            "Flattened array (ravel): [1 2 3 2 4 5 1 2 3]\n"
          ]
        }
      ]
    },
    {
      "cell_type": "code",
      "source": [
        "#q1-c\n",
        "arr1 = np.array([[1, 2], [3, 4]])\n",
        "arr2 = np.array([[1, 2], [3, 4]])\n",
        "\n",
        "# Method 1: Using array_equal\n",
        "print(\"Arrays equal?\", np.array_equal(arr1, arr2))\n",
        "\n",
        "# Method 2: Using element-wise comparison\n",
        "print(\"Element-wise comparison:\\n\", arr1 == arr2)\n"
      ],
      "metadata": {
        "colab": {
          "base_uri": "https://localhost:8080/"
        },
        "id": "lJRRAb7RJ6W6",
        "outputId": "bfc3eae3-1c60-41c5-ecb6-bddc682d8fa6"
      },
      "execution_count": 3,
      "outputs": [
        {
          "output_type": "stream",
          "name": "stdout",
          "text": [
            "Arrays equal? True\n",
            "Element-wise comparison:\n",
            " [[ True  True]\n",
            " [ True  True]]\n"
          ]
        }
      ]
    },
    {
      "cell_type": "code",
      "source": [
        "#q1-d\n",
        "# i.\n",
        "x = np.array([1, 2, 3, 4, 5, 1, 2, 1, 1, 1])\n",
        "val, count = np.unique(x, return_counts=True)\n",
        "most_freq = val[np.argmax(count)]\n",
        "indices = np.where(x == most_freq)\n",
        "print(\"Most frequent in x:\", most_freq)\n",
        "print(\"Indices:\", indices)\n",
        "\n",
        "# ii.\n",
        "y = np.array([1, 1, 1, 2, 3, 4, 2, 4, 3, 3])\n",
        "val_y, count_y = np.unique(y, return_counts=True)\n",
        "most_freq_y = val_y[np.argmax(count_y)]\n",
        "indices_y = np.where(y == most_freq_y)\n",
        "print(\"Most frequent in y:\", most_freq_y)\n",
        "print(\"Indices:\", indices_y)\n"
      ],
      "metadata": {
        "colab": {
          "base_uri": "https://localhost:8080/"
        },
        "id": "YeFnN-grJ_rl",
        "outputId": "c0b2f709-9fcc-4c52-cb06-995d91e28b92"
      },
      "execution_count": 4,
      "outputs": [
        {
          "output_type": "stream",
          "name": "stdout",
          "text": [
            "Most frequent in x: 1\n",
            "Indices: (array([0, 5, 7, 8, 9]),)\n",
            "Most frequent in y: 1\n",
            "Indices: (array([0, 1, 2]),)\n"
          ]
        }
      ]
    },
    {
      "cell_type": "code",
      "source": [
        "#q1-e\n",
        "gfg = np.matrix('[4, 1, 9; 12, 3, 1; 4, 5, 6]')\n",
        "\n",
        "# i. Sum of all elements\n",
        "total_sum = gfg.sum()\n",
        "\n",
        "# ii. Row-wise sum\n",
        "row_sum = gfg.sum(axis=1)\n",
        "\n",
        "# iii. Column-wise sum\n",
        "col_sum = gfg.sum(axis=0)\n",
        "\n",
        "print(\"Total sum:\", total_sum)\n",
        "print(\"Row-wise sum:\", row_sum)\n",
        "print(\"Column-wise sum:\", col_sum)\n"
      ],
      "metadata": {
        "colab": {
          "base_uri": "https://localhost:8080/"
        },
        "id": "YuthFfhGKF1U",
        "outputId": "e48da1c8-7a6f-4cbe-c09a-eb5f1d629bf3"
      },
      "execution_count": 5,
      "outputs": [
        {
          "output_type": "stream",
          "name": "stdout",
          "text": [
            "Total sum: 45\n",
            "Row-wise sum: [[14]\n",
            " [16]\n",
            " [15]]\n",
            "Column-wise sum: [[20  9 16]]\n"
          ]
        }
      ]
    },
    {
      "cell_type": "code",
      "source": [
        "#q1-f\n",
        "n_array = np.array([[55, 25, 15], [30, 44, 2], [11, 45, 77]])\n",
        "\n",
        "# i. Diagonal sum\n",
        "diag_sum = np.trace(n_array)\n",
        "\n",
        "# ii. Eigenvalues and iii. Eigenvectors\n",
        "eigen_vals, eigen_vecs = np.linalg.eig(n_array)\n",
        "\n",
        "# iv. Inverse\n",
        "inverse = np.linalg.inv(n_array)\n",
        "\n",
        "# v. Determinant\n",
        "det = np.linalg.det(n_array)\n",
        "\n",
        "print(\"Diagonal sum:\", diag_sum)\n",
        "print(\"Eigenvalues:\", eigen_vals)\n",
        "print(\"Eigenvectors:\\n\", eigen_vecs)\n",
        "print(\"Inverse:\\n\", inverse)\n",
        "print(\"Determinant:\", det)\n"
      ],
      "metadata": {
        "colab": {
          "base_uri": "https://localhost:8080/"
        },
        "id": "X2PeoXdzKN2R",
        "outputId": "ea0d7edb-0946-4da7-f56a-98ebc69c7328"
      },
      "execution_count": 6,
      "outputs": [
        {
          "output_type": "stream",
          "name": "stdout",
          "text": [
            "Diagonal sum: 176\n",
            "Eigenvalues: [98.16835147 28.097044   49.73460452]\n",
            "Eigenvectors:\n",
            " [[ 0.4574917   0.34637121 -0.15017693]\n",
            " [ 0.28447814 -0.72784061 -0.4852124 ]\n",
            " [ 0.84248058  0.59184038  0.8614034 ]]\n",
            "Inverse:\n",
            " [[ 0.02404141 -0.00911212 -0.00444671]\n",
            " [-0.01667882  0.02966905  0.0024785 ]\n",
            " [ 0.00631287 -0.01603732  0.01217379]]\n",
            "Determinant: 137180.0000000001\n"
          ]
        }
      ]
    },
    {
      "cell_type": "code",
      "source": [
        "#q1-g\n",
        "# i.\n",
        "p1 = np.array([[1, 2], [2, 3]])\n",
        "q1 = np.array([[4, 5], [6, 7]])\n",
        "mult1 = np.dot(p1, q1)\n",
        "cov1 = np.cov(p1.T, q1.T)\n",
        "\n",
        "# ii.\n",
        "p2 = np.array([[1, 2], [2, 3], [4, 5]])\n",
        "q2 = np.array([[4, 5, 1], [6, 7, 2]])\n",
        "mult2 = np.dot(p2, q2)\n",
        "# cov2 = np.cov(p2.T, q2.T) # Removed due to incompatible shapes for covariance calculation\n",
        "\n",
        "print(\"Multiplication 1:\\n\", mult1)\n",
        "print(\"Covariance 1:\\n\", cov1)\n",
        "\n",
        "print(\"Multiplication 2:\\n\", mult2)\n",
        "# print(\"Covariance 2:\\n\", cov2) # Removed due to incompatible shapes for covariance calculation"
      ],
      "metadata": {
        "colab": {
          "base_uri": "https://localhost:8080/"
        },
        "id": "7yghzuTbKTwd",
        "outputId": "82b0e05b-7f82-4a79-c76b-e23332adfa60"
      },
      "execution_count": 10,
      "outputs": [
        {
          "output_type": "stream",
          "name": "stdout",
          "text": [
            "Multiplication 1:\n",
            " [[16 19]\n",
            " [26 31]]\n",
            "Covariance 1:\n",
            " [[0.5 0.5 1.  1. ]\n",
            " [0.5 0.5 1.  1. ]\n",
            " [1.  1.  2.  2. ]\n",
            " [1.  1.  2.  2. ]]\n",
            "Multiplication 2:\n",
            " [[16 19  5]\n",
            " [26 31  8]\n",
            " [46 55 14]]\n"
          ]
        }
      ]
    },
    {
      "cell_type": "code",
      "source": [
        "#q1-h\n",
        "x = np.array([[2, 3, 4], [3, 2, 9]])\n",
        "y = np.array([[1, 5, 0], [5, 10, 3]])\n",
        "\n",
        "# Inner product\n",
        "inner_prod = np.inner(x, y)\n",
        "\n",
        "# Outer product (flattened first)\n",
        "outer_prod = np.outer(x.flatten(), y.flatten())\n",
        "\n",
        "# Cartesian product\n",
        "cartesian_prod = np.array(np.meshgrid(x.flatten(), y.flatten())).T.reshape(-1, 2)\n",
        "\n",
        "print(\"Inner Product:\\n\", inner_prod)\n",
        "print(\"Outer Product:\\n\", outer_prod)\n",
        "print(\"Cartesian Product:\\n\", cartesian_prod)\n"
      ],
      "metadata": {
        "colab": {
          "base_uri": "https://localhost:8080/"
        },
        "id": "oLuUentxKkkQ",
        "outputId": "07a5cb40-5e4f-41a3-db14-d323f9dc6fec"
      },
      "execution_count": 11,
      "outputs": [
        {
          "output_type": "stream",
          "name": "stdout",
          "text": [
            "Inner Product:\n",
            " [[17 52]\n",
            " [13 62]]\n",
            "Outer Product:\n",
            " [[ 2 10  0 10 20  6]\n",
            " [ 3 15  0 15 30  9]\n",
            " [ 4 20  0 20 40 12]\n",
            " [ 3 15  0 15 30  9]\n",
            " [ 2 10  0 10 20  6]\n",
            " [ 9 45  0 45 90 27]]\n",
            "Cartesian Product:\n",
            " [[ 2  1]\n",
            " [ 2  5]\n",
            " [ 2  0]\n",
            " [ 2  5]\n",
            " [ 2 10]\n",
            " [ 2  3]\n",
            " [ 3  1]\n",
            " [ 3  5]\n",
            " [ 3  0]\n",
            " [ 3  5]\n",
            " [ 3 10]\n",
            " [ 3  3]\n",
            " [ 4  1]\n",
            " [ 4  5]\n",
            " [ 4  0]\n",
            " [ 4  5]\n",
            " [ 4 10]\n",
            " [ 4  3]\n",
            " [ 3  1]\n",
            " [ 3  5]\n",
            " [ 3  0]\n",
            " [ 3  5]\n",
            " [ 3 10]\n",
            " [ 3  3]\n",
            " [ 2  1]\n",
            " [ 2  5]\n",
            " [ 2  0]\n",
            " [ 2  5]\n",
            " [ 2 10]\n",
            " [ 2  3]\n",
            " [ 9  1]\n",
            " [ 9  5]\n",
            " [ 9  0]\n",
            " [ 9  5]\n",
            " [ 9 10]\n",
            " [ 9  3]]\n"
          ]
        }
      ]
    },
    {
      "cell_type": "markdown",
      "source": [
        "# Q2"
      ],
      "metadata": {
        "id": "nWCZfDjsLK26"
      }
    },
    {
      "cell_type": "code",
      "source": [
        "import numpy as np\n",
        "\n",
        "array = np.array([[1, -2, 3], [-4, 5, -6]])\n",
        "a = np.array([-1.8, -1.6, -0.5, 0.5, 1.6, 1.8, 3.0])\n"
      ],
      "metadata": {
        "id": "tn9FOspBLMqO"
      },
      "execution_count": 12,
      "outputs": []
    },
    {
      "cell_type": "code",
      "source": [
        "#q2-a-i\n",
        "abs_array = np.abs(array)\n",
        "print(abs_array)\n"
      ],
      "metadata": {
        "colab": {
          "base_uri": "https://localhost:8080/"
        },
        "id": "ihwcwOL7LTh6",
        "outputId": "e5adcd6b-eee2-4c4e-d895-a444993a8e8d"
      },
      "execution_count": 13,
      "outputs": [
        {
          "output_type": "stream",
          "name": "stdout",
          "text": [
            "[[1 2 3]\n",
            " [4 5 6]]\n"
          ]
        }
      ]
    },
    {
      "cell_type": "code",
      "source": [
        "#Q2-a-ii\n",
        "flat = array.flatten()\n",
        "print(\"Flattened:\", flat)\n",
        "print(\"Percentiles:\", np.percentile(flat, [25, 50, 75]))\n"
      ],
      "metadata": {
        "colab": {
          "base_uri": "https://localhost:8080/"
        },
        "id": "CAQiXzWZLYwO",
        "outputId": "458952e3-5d47-459c-a8ed-3b157010c9a3"
      },
      "execution_count": 14,
      "outputs": [
        {
          "output_type": "stream",
          "name": "stdout",
          "text": [
            "Flattened: [ 1 -2  3 -4  5 -6]\n",
            "Percentiles: [-3.5 -0.5  2.5]\n"
          ]
        }
      ]
    },
    {
      "cell_type": "code",
      "source": [
        "print(\"Column-wise Percentiles:\")\n",
        "print(\"25th:\", np.percentile(array, 25, axis=0))\n",
        "print(\"50th:\", np.percentile(array, 50, axis=0))\n",
        "print(\"75th:\", np.percentile(array, 75, axis=0))\n"
      ],
      "metadata": {
        "colab": {
          "base_uri": "https://localhost:8080/"
        },
        "id": "96Q0Y_PWLxt9",
        "outputId": "5342f1fb-38db-49ac-ed3d-f4a2201b2f7c"
      },
      "execution_count": 15,
      "outputs": [
        {
          "output_type": "stream",
          "name": "stdout",
          "text": [
            "Column-wise Percentiles:\n",
            "25th: [-2.75 -0.25 -3.75]\n",
            "50th: [-1.5  1.5 -1.5]\n",
            "75th: [-0.25  3.25  0.75]\n"
          ]
        }
      ]
    },
    {
      "cell_type": "code",
      "source": [
        "print(\"Row-wise Percentiles:\")\n",
        "print(\"25th:\", np.percentile(array, 25, axis=1))\n",
        "print(\"50th:\", np.percentile(array, 50, axis=1))\n",
        "print(\"75th:\", np.percentile(array, 75, axis=1))\n"
      ],
      "metadata": {
        "colab": {
          "base_uri": "https://localhost:8080/"
        },
        "id": "s5MLvrwRMEGZ",
        "outputId": "de7372f3-9924-4ea4-9e98-3b7841d0d0b2"
      },
      "execution_count": 16,
      "outputs": [
        {
          "output_type": "stream",
          "name": "stdout",
          "text": [
            "Row-wise Percentiles:\n",
            "25th: [-0.5 -5. ]\n",
            "50th: [ 1. -4.]\n",
            "75th: [2.  0.5]\n"
          ]
        }
      ]
    },
    {
      "cell_type": "code",
      "source": [
        "#Q-2-a-iii\n",
        "print(\"Flattened Mean:\", np.mean(flat))\n",
        "print(\"Flattened Median:\", np.median(flat))\n",
        "print(\"Flattened Std Dev:\", np.std(flat))\n"
      ],
      "metadata": {
        "colab": {
          "base_uri": "https://localhost:8080/"
        },
        "id": "elXrH9JXMIyc",
        "outputId": "a6bd6577-95ac-45ed-98d1-b9882e3bf513"
      },
      "execution_count": 17,
      "outputs": [
        {
          "output_type": "stream",
          "name": "stdout",
          "text": [
            "Flattened Mean: -0.5\n",
            "Flattened Median: -0.5\n",
            "Flattened Std Dev: 3.8622100754188224\n"
          ]
        }
      ]
    },
    {
      "cell_type": "code",
      "source": [
        "print(\"Column-wise Mean:\", np.mean(array, axis=0))\n",
        "print(\"Column-wise Median:\", np.median(array, axis=0))\n",
        "print(\"Column-wise Std Dev:\", np.std(array, axis=0))\n"
      ],
      "metadata": {
        "colab": {
          "base_uri": "https://localhost:8080/"
        },
        "id": "GIDa83-qMVvH",
        "outputId": "0032585d-0a52-42f5-aab2-8b904fe660db"
      },
      "execution_count": 18,
      "outputs": [
        {
          "output_type": "stream",
          "name": "stdout",
          "text": [
            "Column-wise Mean: [-1.5  1.5 -1.5]\n",
            "Column-wise Median: [-1.5  1.5 -1.5]\n",
            "Column-wise Std Dev: [2.5 3.5 4.5]\n"
          ]
        }
      ]
    },
    {
      "cell_type": "code",
      "source": [
        "print(\"Row-wise Mean:\", np.mean(array, axis=1))\n",
        "print(\"Row-wise Median:\", np.median(array, axis=1))\n",
        "print(\"Row-wise Std Dev:\", np.std(array, axis=1))\n"
      ],
      "metadata": {
        "colab": {
          "base_uri": "https://localhost:8080/"
        },
        "id": "oCYRXeBQMYzH",
        "outputId": "7a9c533b-b9be-42b4-afe0-980a54c13364"
      },
      "execution_count": 19,
      "outputs": [
        {
          "output_type": "stream",
          "name": "stdout",
          "text": [
            "Row-wise Mean: [ 0.66666667 -1.66666667]\n",
            "Row-wise Median: [ 1. -4.]\n",
            "Row-wise Std Dev: [2.05480467 4.78423336]\n"
          ]
        }
      ]
    },
    {
      "cell_type": "code",
      "source": [
        "#Q-2-b\n",
        "np.floor(a)\n"
      ],
      "metadata": {
        "colab": {
          "base_uri": "https://localhost:8080/"
        },
        "id": "W0y0JkU6MwLf",
        "outputId": "c7eb61d6-b47d-4a86-ffb5-475ce590b6ae"
      },
      "execution_count": 20,
      "outputs": [
        {
          "output_type": "execute_result",
          "data": {
            "text/plain": [
              "array([-2., -2., -1.,  0.,  1.,  1.,  3.])"
            ]
          },
          "metadata": {},
          "execution_count": 20
        }
      ]
    },
    {
      "cell_type": "code",
      "source": [
        "np.ceil(a)\n"
      ],
      "metadata": {
        "colab": {
          "base_uri": "https://localhost:8080/"
        },
        "id": "-GNVTuClM238",
        "outputId": "2a8768e9-9388-4919-fd33-7ce95ecd0757"
      },
      "execution_count": 21,
      "outputs": [
        {
          "output_type": "execute_result",
          "data": {
            "text/plain": [
              "array([-1., -1., -0.,  1.,  2.,  2.,  3.])"
            ]
          },
          "metadata": {},
          "execution_count": 21
        }
      ]
    },
    {
      "cell_type": "code",
      "source": [
        "np.trunc(a)\n"
      ],
      "metadata": {
        "colab": {
          "base_uri": "https://localhost:8080/"
        },
        "id": "5rTbjUkjM5wB",
        "outputId": "c5a5494f-1d58-4356-f77b-3f811f34462b"
      },
      "execution_count": 22,
      "outputs": [
        {
          "output_type": "execute_result",
          "data": {
            "text/plain": [
              "array([-1., -1., -0.,  0.,  1.,  1.,  3.])"
            ]
          },
          "metadata": {},
          "execution_count": 22
        }
      ]
    },
    {
      "cell_type": "code",
      "source": [
        "np.round(a)\n"
      ],
      "metadata": {
        "colab": {
          "base_uri": "https://localhost:8080/"
        },
        "id": "bEcVv7leM-ew",
        "outputId": "1b368308-c8de-443d-fdac-2f8a13ef68c6"
      },
      "execution_count": 23,
      "outputs": [
        {
          "output_type": "execute_result",
          "data": {
            "text/plain": [
              "array([-2., -2., -0.,  0.,  2.,  2.,  3.])"
            ]
          },
          "metadata": {},
          "execution_count": 23
        }
      ]
    },
    {
      "cell_type": "markdown",
      "source": [
        "# Q3"
      ],
      "metadata": {
        "id": "28gEdp9RNFu8"
      }
    },
    {
      "cell_type": "code",
      "source": [
        "import numpy as np\n",
        "\n",
        "array = np.array([10, 52, 62, 16, 16, 54, 453])\n"
      ],
      "metadata": {
        "id": "wBzsuDNaNEgU"
      },
      "execution_count": 24,
      "outputs": []
    },
    {
      "cell_type": "code",
      "source": [
        "#Q3-a-i\n",
        "sorted_array = np.sort(array)\n",
        "print(\"Sorted array:\", sorted_array)\n"
      ],
      "metadata": {
        "colab": {
          "base_uri": "https://localhost:8080/"
        },
        "id": "H9AJ01WKNSGV",
        "outputId": "2c21f30a-123e-45c5-8ee5-55ee81ca8be7"
      },
      "execution_count": 25,
      "outputs": [
        {
          "output_type": "stream",
          "name": "stdout",
          "text": [
            "Sorted array: [ 10  16  16  52  54  62 453]\n"
          ]
        }
      ]
    },
    {
      "cell_type": "code",
      "source": [
        "#Q3-a-ii\n",
        "sorted_indices = np.argsort(array)\n",
        "print(\"Indices of sorted array:\", sorted_indices)\n"
      ],
      "metadata": {
        "colab": {
          "base_uri": "https://localhost:8080/"
        },
        "id": "qQYDlHlHNZ1D",
        "outputId": "36abb714-7990-4313-c4ea-8fbf4de4d39b"
      },
      "execution_count": 26,
      "outputs": [
        {
          "output_type": "stream",
          "name": "stdout",
          "text": [
            "Indices of sorted array: [0 3 4 1 5 2 6]\n"
          ]
        }
      ]
    },
    {
      "cell_type": "code",
      "source": [
        "#Q3-a-iii\n",
        "smallest_4 = np.sort(array)[:4]\n",
        "print(\"4 Smallest elements:\", smallest_4)\n"
      ],
      "metadata": {
        "colab": {
          "base_uri": "https://localhost:8080/"
        },
        "id": "zJKXYuusNjgR",
        "outputId": "fd4981b1-7df4-4c59-b7f8-1b4937b0ea9d"
      },
      "execution_count": 27,
      "outputs": [
        {
          "output_type": "stream",
          "name": "stdout",
          "text": [
            "4 Smallest elements: [10 16 16 52]\n"
          ]
        }
      ]
    },
    {
      "cell_type": "code",
      "source": [
        "#Q3-a-iv\n",
        "largest_5 = np.sort(array)[-5:]\n",
        "print(\"5 Largest elements:\", largest_5)\n"
      ],
      "metadata": {
        "colab": {
          "base_uri": "https://localhost:8080/"
        },
        "id": "zTYYD90qNjjw",
        "outputId": "cb0666c8-b3a2-4f3a-8b29-0da67a4532cd"
      },
      "execution_count": 28,
      "outputs": [
        {
          "output_type": "stream",
          "name": "stdout",
          "text": [
            "5 Largest elements: [ 16  52  54  62 453]\n"
          ]
        }
      ]
    },
    {
      "cell_type": "code",
      "source": [
        "#q3-b\n",
        "array_b = np.array([1.0, 1.2, 2.2, 2.0, 3.0, 2.0])\n"
      ],
      "metadata": {
        "id": "mkjGOIE2N0iK"
      },
      "execution_count": 29,
      "outputs": []
    },
    {
      "cell_type": "code",
      "source": [
        "#i\n",
        "int_elements = array_b[array_b == array_b.astype(int)]\n",
        "print(\"Integer elements:\", int_elements)\n"
      ],
      "metadata": {
        "colab": {
          "base_uri": "https://localhost:8080/"
        },
        "id": "7Ts4Tj12N3eu",
        "outputId": "c4a8549f-b956-426d-a644-0ed865e88d0c"
      },
      "execution_count": 30,
      "outputs": [
        {
          "output_type": "stream",
          "name": "stdout",
          "text": [
            "Integer elements: [1. 2. 3. 2.]\n"
          ]
        }
      ]
    },
    {
      "cell_type": "code",
      "source": [
        "#ii\n",
        "float_elements = array_b[array_b != array_b.astype(int)]\n",
        "print(\"Float elements:\", float_elements)\n"
      ],
      "metadata": {
        "colab": {
          "base_uri": "https://localhost:8080/"
        },
        "id": "lF2KBn8nN-Dl",
        "outputId": "97113ada-015f-4e10-9ee5-0b589bbcf9e9"
      },
      "execution_count": 31,
      "outputs": [
        {
          "output_type": "stream",
          "name": "stdout",
          "text": [
            "Float elements: [1.2 2.2]\n"
          ]
        }
      ]
    }
  ]
}